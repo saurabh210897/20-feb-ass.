{
 "cells": [
  {
   "cell_type": "code",
   "execution_count": 1,
   "id": "3eeeec2f-61c9-4062-a7d6-3fd701979ca2",
   "metadata": {},
   "outputs": [],
   "source": [
    "#Q1. Explain GET and POST methods.\n",
    "\n",
    "#Q2. Why is request used in Flask?\n",
    "\n",
    "#Q3. Why is redirect() used in Flask?\n",
    "\n",
    "#Q4. What are templates in Flask? Why is the render_template() function used?\n",
    "\n",
    "#Q5. Create a simple API. Use Postman to test it. Attach the screenshot of the output in the Jupyter Notebook"
   ]
  },
  {
   "cell_type": "code",
   "execution_count": 2,
   "id": "8e3db874-a547-4c93-bee3-f4d730e87e9b",
   "metadata": {},
   "outputs": [],
   "source": [
    "#Q1. Explain GET and POST methods."
   ]
  },
  {
   "cell_type": "code",
   "execution_count": 3,
   "id": "a7794a24-4bbc-4924-8ffd-d7fe926d5650",
   "metadata": {},
   "outputs": [],
   "source": [
    "# GET and POST are two of the most commonly used HTTP methods.\n",
    "\n",
    "# GET method:\n",
    "# The GET method is used to retrieve information from a server. It is a request method that is used to retrieve data from a specified resource. \n",
    "# In other words, the GET method requests a representation of a specific resource, and the server returns the representation of the resource in the response. \n",
    "# The GET method can be used to retrieve data from a database, read a file, or to fetch data from an API.\n",
    "# Some key characteristics of the GET method are:\n",
    "\n",
    "# The data is sent in the URL as query parameters\n",
    "# The data is visible in the URL\n",
    "# GET requests are cached by the browser\n",
    "# GET requests can be bookmarked\n",
    "\n",
    "# POST method:\n",
    "# The POST method is used to submit data to be processed to a specified resource. It is a request method that is used to submit an entity enclosed in \n",
    "# the request to the specified resource. In other words, the POST method submits an entity to the server for processing. \n",
    "# The POST method can be used to create new resources, update existing resources, or to submit form data.\n",
    "# Some key characteristics of the POST method are:\n",
    "\n",
    "# The data is sent in the request body\n",
    "# The data is not visible in the URL\n",
    "# POST requests are not cached by the browser\n",
    "# POST requests cannot be bookmarked\n",
    "\n",
    "# *************************************************************8\n",
    "\n",
    "# In summary, the GET method is used to retrieve information from a server, while the POST method is used to submit information to a server for processing."
   ]
  },
  {
   "cell_type": "code",
   "execution_count": 4,
   "id": "cc710adb-d4b3-4ab1-ac35-a36874fa20ee",
   "metadata": {},
   "outputs": [],
   "source": [
    "#Q2. Why is request used in Flask?"
   ]
  },
  {
   "cell_type": "code",
   "execution_count": 5,
   "id": "d35988bd-ada3-468e-8b64-2edcbe6f79e0",
   "metadata": {},
   "outputs": [],
   "source": [
    "# In Flask, the request module is used to handle incoming HTTP requests to the application. It provides access to information such as form data, cookies,\n",
    "# and request headers that are sent in the HTTP request from the client to the server.\n",
    "\n",
    "# Here are some of the main uses of the request module in Flask:\n",
    "\n",
    "# Accessing form data: The request module allows you to retrieve form data submitted from the client via the POST method. This is useful when processing user input, \n",
    "# such as when creating a new user account, or when searching for data in a database.\n",
    "\n",
    "# Handling file uploads: The request module provides a way to handle file uploads from the client. The uploaded file is stored in memory, or in a temporary file on the server, \n",
    "# and can be processed using other Flask modules or external libraries.\n",
    "\n",
    "# Accessing cookies: Cookies are small text files that are stored on the client's computer and are sent with every HTTP request. \n",
    "# The request module provides a way to access cookies sent by the client, allowing you to retrieve session data or other user-specific information.\n",
    "\n",
    "# Handling request headers: Request headers contain additional information about the client's request, such as the user agent, \n",
    "# accepted content types, and authentication credentials. The request module provides a way to access these headers, allowing you to customize your response based on the client's request\n",
    "\n",
    "# ***************************************************************************************\n",
    "\n",
    "# Overall, the request module is a crucial part of Flask that allows developers to interact with incoming HTTP requests and extract information from them. \n",
    "# This information can then be used to process data, authenticate users, or customize the application's response to the client."
   ]
  },
  {
   "cell_type": "code",
   "execution_count": 6,
   "id": "a309a552-4a4c-4c91-97cb-051b30a51d10",
   "metadata": {},
   "outputs": [],
   "source": [
    "#Q3. Why is redirect() used in Flask?"
   ]
  },
  {
   "cell_type": "code",
   "execution_count": 7,
   "id": "0b736de1-ee02-45d1-91eb-4210965231d8",
   "metadata": {},
   "outputs": [],
   "source": [
    "# In Flask, the redirect() function is used to redirect the client to a different URL. It is commonly used in web applications to redirect the user to \n",
    "# a different page after they have completed a form submission, logged in, or performed some other action.\n",
    "\n",
    "# Here are some reasons why redirect() is commonly used in Flask:\n",
    "\n",
    "# Redirecting after form submissions: When a user submits a form, the data is sent to the server and processed. After the processing is complete, \n",
    "# it is common to redirect the user to a different page, such as a confirmation page, to prevent the user from accidentally resubmitting the form data.\n",
    "\n",
    "# Redirecting after authentication: When a user logs in, it is common to redirect them to a different page, such as their profile page or a dashboard, \n",
    "# to provide a personalized experience. Similarly, when a user logs out, it is common to redirect them to a different page, such as the login page or the home page.\n",
    "\n",
    "# Handling errors: When an error occurs, such as a 404 page not found error or a 500 internal server error, \n",
    "# it is common to redirect the user to a custom error page that provides more information about the error and possible solutions.\n",
    "\n",
    "# Providing a user-friendly experience: Redirecting the user to different pages or URLs can improve the user experience by providing a clear and organized flow to the application.\n",
    "\n",
    "# ***********************************\n",
    "\n",
    "# Overall, redirect() is a powerful function in Flask that allows developers to control the flow of the application and provide a user-friendly experience."
   ]
  },
  {
   "cell_type": "code",
   "execution_count": 8,
   "id": "1531aacb-0bb3-4611-936a-7b509935000b",
   "metadata": {},
   "outputs": [],
   "source": [
    "#Q4. What are templates in Flask? Why is the render_template() function used?"
   ]
  },
  {
   "cell_type": "code",
   "execution_count": 9,
   "id": "3ed4d78c-e211-430e-82be-8840fbfc00c6",
   "metadata": {},
   "outputs": [],
   "source": [
    "# In Flask, templates are used to create dynamic HTML pages that can display data from the application. A template is a file that contains a mix of static HTML markup \n",
    "# and dynamic placeholders for data that will be provided by the application.\n",
    "\n",
    "# Templates are a powerful feature of Flask because they allow developers to separate the presentation layer (HTML markup) from the logic layer (Python code). \n",
    "# This makes it easier to maintain and modify the application over time.\n",
    "\n",
    "# The render_template() function is used in Flask to render a template and return the result as a string. This function takes the name of the template file as its argument,\n",
    "# and any additional data that should be provided to the template as keyword arguments.\n",
    "\n",
    "# Here are some reasons why the render_template() function is commonly used in Flask:\n",
    "\n",
    "# Creating dynamic HTML pages: With templates, it is easy to create dynamic HTML pages that display data from the application. \n",
    "# The render_template() function allows developers to pass data from the application to the template, which can then be used to render the page.\n",
    "\n",
    "# Separating presentation and logic: By separating the presentation layer from the logic layer, templates make it easier to maintain and modify the application over time. \n",
    "# This is because changes to the HTML markup can be made without affecting the Python code, and vice versa.\n",
    "\n",
    "# Reusing code: Templates allow developers to reuse code across multiple pages in the application. \n",
    "# This can save time and reduce the amount of code that needs to be written and maintained.\n",
    "\n",
    "# Improving readability: By using templates, it is possible to create HTML pages that are more readable and easier to understand. \n",
    "# This is because the HTML markup is separated from the Python code, making it easier to identify and modify specific parts of the page.\n",
    "\n",
    "# ****************************************\n",
    "\n",
    "# Overall, templates are a powerful feature of Flask that allow developers to create dynamic HTML pages that can display data from the application. \n",
    "# The render_template() function is used to render these templates and return the result as a string."
   ]
  },
  {
   "cell_type": "code",
   "execution_count": null,
   "id": "789f9023-fff2-4bc2-9e55-c2260faab890",
   "metadata": {},
   "outputs": [],
   "source": []
  }
 ],
 "metadata": {
  "kernelspec": {
   "display_name": "Python 3 (ipykernel)",
   "language": "python",
   "name": "python3"
  },
  "language_info": {
   "codemirror_mode": {
    "name": "ipython",
    "version": 3
   },
   "file_extension": ".py",
   "mimetype": "text/x-python",
   "name": "python",
   "nbconvert_exporter": "python",
   "pygments_lexer": "ipython3",
   "version": "3.10.8"
  }
 },
 "nbformat": 4,
 "nbformat_minor": 5
}
